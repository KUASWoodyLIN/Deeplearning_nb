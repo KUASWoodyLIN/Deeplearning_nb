{
 "cells": [
  {
   "cell_type": "markdown",
   "metadata": {},
   "source": [
    "# Yolo : You only look once"
   ]
  },
  {
   "cell_type": "markdown",
   "metadata": {},
   "source": [
    "* 官網：https://pjreddie.com/darknet/yolo/\n",
    "* 論文：https://arxiv.org/abs/1506.02640\n",
    "* 代碼網址：https://github.com/pjreddie/darknet"
   ]
  },
  {
   "cell_type": "markdown",
   "metadata": {},
   "source": [
    "## 大致流程\n",
    "1. Resize：將輸入圖片**Resize** 成448*448\n",
    "2. Convolutional neural betwork：CNN提取特徵和預測\n",
    "3. Non-max suppression：過濾bounding box\n",
    "![Yolo Detection System](https://cdn-images-1.medium.com/max/1200/1*DQxM0R_kLev8dPZ09W932w.png)"
   ]
  },
  {
   "cell_type": "markdown",
   "metadata": {},
   "source": [
    "## 網路設計\n",
    "圖終架構使用了GoogleNet。總共24個卷積層，2個全連接層。\n",
    "\n",
    "![The Architecture 1](https://pic3.zhimg.com/v2-fb3ca1a334bf15697b0c75a1b2accf30_r.jpg)\n",
    "- - -"
   ]
  },
  {
   "cell_type": "markdown",
   "metadata": {},
   "source": [
    "## 預測解說\n",
    "![輸出解說](https://curt-park.github.io/images/yolo/NetArch0.JPG)\n",
    "\n",
    "1. 網路最後一層為 (7X7)X30 的維度\n",
    "    * 7X7 為網格大小\n",
    "    * 30 為2個bounding box(x,y,w,h,confidence值) + 類別(20類)，2*5+20 = 30\n",
    "        * confidence：代表bbox中有object的置信度計算如下：\n",
    "        \n",
    "        `Pr(Object)∗IOU(truth|pred)Pr(Object)∗IOU(truth|pred)`\n",
    "        \n",
    "        `Pr(Object)`：當Object在grid裡，`Pr(Object)`為1，其餘為0\n",
    "        \n",
    "        `IOU(truth|pred)`：IOU為預測bbox和groundtruth之間值 \n",
    "\n",
    "2. class-specific confidence score\n",
    "    * 將每格網格預測的class訊息和bounding box预测的confidence信息相乘，得到每個bounding box的class-specific confidence score:\n",
    "    \n",
    "    `Pr(Classi)∗IOU(truth|pred)Pr(Classi)∗IOU(truth|pred)`\n",
    "    \n",
    "    `Pr(Classi)`：為類別預測訊息\n",
    "    \n",
    "    `IOU(truth|pred)`：bbox confidence\n",
    "    \n",
    "    * **得到每個class-specific confidence後，設定閥值，濾掉低分的boxes，再對保留的boxes進行NMS處理，得到對終結果**\n",
    "- - -\n",
    "- - -\n",
    "![](https://image.slidesharecdn.com/dlcv2017d2l4objectdetection-170622143747/95/object-detection-d2l4-2017-upc-deep-learning-for-computer-vision-30-638.jpg?cb=1498142508)\n",
    "1. 每個網格有2個bounding box，因此右下角圖有7*7*2=98個bbox。\n",
    "    ![bbox 總數](https://pic2.zhimg.com/80/v2-5b1db04664c3e3993ec647d4956492ba_hd.jpg)\n",
    "\n",
    "2. 另一方面，原先劃分7x7的網格都對應一種**分類概率P(Car|Object)**\n",
    "    ![分類](https://pic3.zhimg.com/v2-03110e594ea29cb92689947c1b0b754d_r.jpg)\n",
    "\n",
    "3. 在算法的最後使用了非極大值抑制算法，求每一個網格的多個bbox到底哪個bbox是最有可能的窗口\n",
    "    ![](https://pic2.zhimg.com/v2-ae713174ab276d7e3dcc1567474d88da_r.jpg)\n",
    "- - -"
   ]
  },
  {
   "cell_type": "markdown",
   "metadata": {},
   "source": [
    "## 損失函數\n",
    "![loss function](https://pic4.zhimg.com/v2-f9af0b8094b35f7c2ab2179efb6f4c8c_r.jpg)"
   ]
  },
  {
   "cell_type": "markdown",
   "metadata": {},
   "source": [
    "## Yolo缺點\n",
    "* YOLO對相互靠的很近的物體，還有很小的群體 檢測效果不好，這是因為一個網格中只預測了兩個框，並且只屬於一類。\n",
    "* 對測試圖像中，同一類物體出現的新的不常見的長寬比和其他情況是。泛化能力偏弱。\n",
    "* 由於損失函數的問題，定位誤差是影響檢測效果的主要原因。尤其是大小物體的處理上，還有待加強。"
   ]
  },
  {
   "cell_type": "markdown",
   "metadata": {},
   "source": [
    "## 參考：\n",
    "* [Yolo 論文](https://arxiv.org/abs/1506.02640)\n",
    "* [圖解Yolo](https://zhuanlan.zhihu.com/p/24916786)\n",
    "* [YOLO目标检测原理与实践](https://zhuanlan.zhihu.com/p/31227909)\n",
    "* [目标窗口检测算法-NMS非极大值抑制](https://chenzomi12.github.io/2016/12/14/YOLO-nms/)"
   ]
  }
 ],
 "metadata": {
  "kernelspec": {
   "display_name": "Python 3",
   "language": "python",
   "name": "python3"
  },
  "language_info": {
   "codemirror_mode": {
    "name": "ipython",
    "version": 3
   },
   "file_extension": ".py",
   "mimetype": "text/x-python",
   "name": "python",
   "nbconvert_exporter": "python",
   "pygments_lexer": "ipython3",
   "version": "3.5.2"
  }
 },
 "nbformat": 4,
 "nbformat_minor": 2
}
